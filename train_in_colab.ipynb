{
 "cells": [
  {
   "cell_type": "markdown",
   "metadata": {},
   "source": [
    "# Train alpaca in colab"
   ]
  },
  {
   "cell_type": "code",
   "execution_count": null,
   "metadata": {},
   "outputs": [],
   "source": [
    "! git clone https://github.com/lunaczp/stanford_alpaca.git\n",
    "%cd stanford-alpaca\n",
    "! python3.10 -m venv .venv\n",
    "! source .venv/bin/activate\n",
    "! which pip\n",
    "! pip install -r requirements.txt"
   ]
  },
  {
   "cell_type": "code",
   "execution_count": null,
   "metadata": {},
   "outputs": [],
   "source": [
    "!torchrun --nproc_per_node=4 --master_port=10011 train.py \\\n",
    "    --model_name_or_path \"facebook/opt-6.7b\" \\\n",
    "    --data_path ./alpaca_data.json \\\n",
    "    --bf16 True \\\n",
    "    --output_dir output \\\n",
    "    --num_train_epochs 3 \\\n",
    "    --per_device_train_batch_size 4 \\\n",
    "    --per_device_eval_batch_size 4 \\\n",
    "    --gradient_accumulation_steps 8 \\\n",
    "    --evaluation_strategy \"no\" \\\n",
    "    --save_strategy \"steps\" \\\n",
    "    --save_steps 2000 \\\n",
    "    --save_total_limit 1 \\\n",
    "    --learning_rate 2e-5 \\\n",
    "    --weight_decay 0. \\\n",
    "    --warmup_ratio 0.03 \\\n",
    "    --lr_scheduler_type \"cosine\" \\\n",
    "    --logging_steps 1 \\\n",
    "    --fsdp \"full_shard auto_wrap\" \\\n",
    "    --fsdp_transformer_layer_cls_to_wrap 'OPTDecoderLayer' \\\n",
    "    --tf32 True"
   ]
  }
 ],
 "metadata": {
  "language_info": {
   "name": "python"
  }
 },
 "nbformat": 4,
 "nbformat_minor": 2
}
